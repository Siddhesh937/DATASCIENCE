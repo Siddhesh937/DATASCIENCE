{
  "nbformat": 4,
  "nbformat_minor": 0,
  "metadata": {
    "colab": {
      "provenance": [],
      "toc_visible": true,
      "include_colab_link": true
    },
    "kernelspec": {
      "name": "python3",
      "display_name": "Python 3"
    },
    "language_info": {
      "name": "python"
    }
  },
  "cells": [
    {
      "cell_type": "markdown",
      "metadata": {
        "id": "view-in-github",
        "colab_type": "text"
      },
      "source": [
        "<a href=\"https://colab.research.google.com/github/Siddhesh937/DATASCIENCE/blob/main/creditcardfrauddetection.ipynb\" target=\"_parent\"><img src=\"https://colab.research.google.com/assets/colab-badge.svg\" alt=\"Open In Colab\"/></a>"
      ]
    },
    {
      "cell_type": "code",
      "execution_count": null,
      "metadata": {
        "colab": {
          "base_uri": "https://localhost:8080/",
          "height": 317
        },
        "id": "mvlYySGB49FB",
        "outputId": "9afdb6b7-7c20-4145-ba84-ad4a75ff8dab"
      },
      "outputs": [
        {
          "output_type": "stream",
          "name": "stdout",
          "text": [
            "(3973, 31)\n"
          ]
        },
        {
          "output_type": "execute_result",
          "data": {
            "text/plain": [
              "   Time        V1        V2        V3        V4        V5        V6        V7  \\\n",
              "0     0 -1.359807 -0.072781  2.536347  1.378155 -0.338321  0.462388  0.239599   \n",
              "1     0  1.191857  0.266151  0.166480  0.448154  0.060018 -0.082361 -0.078803   \n",
              "2     1 -1.358354 -1.340163  1.773209  0.379780 -0.503198  1.800499  0.791461   \n",
              "3     1 -0.966272 -0.185226  1.792993 -0.863291 -0.010309  1.247203  0.237609   \n",
              "4     2 -1.158233  0.877737  1.548718  0.403034 -0.407193  0.095921  0.592941   \n",
              "\n",
              "         V8        V9  ...       V21       V22       V23       V24       V25  \\\n",
              "0  0.098698  0.363787  ... -0.018307  0.277838 -0.110474  0.066928  0.128539   \n",
              "1  0.085102 -0.255425  ... -0.225775 -0.638672  0.101288 -0.339846  0.167170   \n",
              "2  0.247676 -1.514654  ...  0.247998  0.771679  0.909412 -0.689281 -0.327642   \n",
              "3  0.377436 -1.387024  ... -0.108300  0.005274 -0.190321 -1.175575  0.647376   \n",
              "4 -0.270533  0.817739  ... -0.009431  0.798278 -0.137458  0.141267 -0.206010   \n",
              "\n",
              "        V26       V27       V28  Amount  Class  \n",
              "0 -0.189115  0.133558 -0.021053  149.62    0.0  \n",
              "1  0.125895 -0.008983  0.014724    2.69    0.0  \n",
              "2 -0.139097 -0.055353 -0.059752  378.66    0.0  \n",
              "3 -0.221929  0.062723  0.061458  123.50    0.0  \n",
              "4  0.502292  0.219422  0.215153   69.99    0.0  \n",
              "\n",
              "[5 rows x 31 columns]"
            ],
            "text/html": [
              "\n",
              "  <div id=\"df-d34a4160-e401-4aa9-a9d6-fbd3cf9e7760\">\n",
              "    <div class=\"colab-df-container\">\n",
              "      <div>\n",
              "<style scoped>\n",
              "    .dataframe tbody tr th:only-of-type {\n",
              "        vertical-align: middle;\n",
              "    }\n",
              "\n",
              "    .dataframe tbody tr th {\n",
              "        vertical-align: top;\n",
              "    }\n",
              "\n",
              "    .dataframe thead th {\n",
              "        text-align: right;\n",
              "    }\n",
              "</style>\n",
              "<table border=\"1\" class=\"dataframe\">\n",
              "  <thead>\n",
              "    <tr style=\"text-align: right;\">\n",
              "      <th></th>\n",
              "      <th>Time</th>\n",
              "      <th>V1</th>\n",
              "      <th>V2</th>\n",
              "      <th>V3</th>\n",
              "      <th>V4</th>\n",
              "      <th>V5</th>\n",
              "      <th>V6</th>\n",
              "      <th>V7</th>\n",
              "      <th>V8</th>\n",
              "      <th>V9</th>\n",
              "      <th>...</th>\n",
              "      <th>V21</th>\n",
              "      <th>V22</th>\n",
              "      <th>V23</th>\n",
              "      <th>V24</th>\n",
              "      <th>V25</th>\n",
              "      <th>V26</th>\n",
              "      <th>V27</th>\n",
              "      <th>V28</th>\n",
              "      <th>Amount</th>\n",
              "      <th>Class</th>\n",
              "    </tr>\n",
              "  </thead>\n",
              "  <tbody>\n",
              "    <tr>\n",
              "      <th>0</th>\n",
              "      <td>0</td>\n",
              "      <td>-1.359807</td>\n",
              "      <td>-0.072781</td>\n",
              "      <td>2.536347</td>\n",
              "      <td>1.378155</td>\n",
              "      <td>-0.338321</td>\n",
              "      <td>0.462388</td>\n",
              "      <td>0.239599</td>\n",
              "      <td>0.098698</td>\n",
              "      <td>0.363787</td>\n",
              "      <td>...</td>\n",
              "      <td>-0.018307</td>\n",
              "      <td>0.277838</td>\n",
              "      <td>-0.110474</td>\n",
              "      <td>0.066928</td>\n",
              "      <td>0.128539</td>\n",
              "      <td>-0.189115</td>\n",
              "      <td>0.133558</td>\n",
              "      <td>-0.021053</td>\n",
              "      <td>149.62</td>\n",
              "      <td>0.0</td>\n",
              "    </tr>\n",
              "    <tr>\n",
              "      <th>1</th>\n",
              "      <td>0</td>\n",
              "      <td>1.191857</td>\n",
              "      <td>0.266151</td>\n",
              "      <td>0.166480</td>\n",
              "      <td>0.448154</td>\n",
              "      <td>0.060018</td>\n",
              "      <td>-0.082361</td>\n",
              "      <td>-0.078803</td>\n",
              "      <td>0.085102</td>\n",
              "      <td>-0.255425</td>\n",
              "      <td>...</td>\n",
              "      <td>-0.225775</td>\n",
              "      <td>-0.638672</td>\n",
              "      <td>0.101288</td>\n",
              "      <td>-0.339846</td>\n",
              "      <td>0.167170</td>\n",
              "      <td>0.125895</td>\n",
              "      <td>-0.008983</td>\n",
              "      <td>0.014724</td>\n",
              "      <td>2.69</td>\n",
              "      <td>0.0</td>\n",
              "    </tr>\n",
              "    <tr>\n",
              "      <th>2</th>\n",
              "      <td>1</td>\n",
              "      <td>-1.358354</td>\n",
              "      <td>-1.340163</td>\n",
              "      <td>1.773209</td>\n",
              "      <td>0.379780</td>\n",
              "      <td>-0.503198</td>\n",
              "      <td>1.800499</td>\n",
              "      <td>0.791461</td>\n",
              "      <td>0.247676</td>\n",
              "      <td>-1.514654</td>\n",
              "      <td>...</td>\n",
              "      <td>0.247998</td>\n",
              "      <td>0.771679</td>\n",
              "      <td>0.909412</td>\n",
              "      <td>-0.689281</td>\n",
              "      <td>-0.327642</td>\n",
              "      <td>-0.139097</td>\n",
              "      <td>-0.055353</td>\n",
              "      <td>-0.059752</td>\n",
              "      <td>378.66</td>\n",
              "      <td>0.0</td>\n",
              "    </tr>\n",
              "    <tr>\n",
              "      <th>3</th>\n",
              "      <td>1</td>\n",
              "      <td>-0.966272</td>\n",
              "      <td>-0.185226</td>\n",
              "      <td>1.792993</td>\n",
              "      <td>-0.863291</td>\n",
              "      <td>-0.010309</td>\n",
              "      <td>1.247203</td>\n",
              "      <td>0.237609</td>\n",
              "      <td>0.377436</td>\n",
              "      <td>-1.387024</td>\n",
              "      <td>...</td>\n",
              "      <td>-0.108300</td>\n",
              "      <td>0.005274</td>\n",
              "      <td>-0.190321</td>\n",
              "      <td>-1.175575</td>\n",
              "      <td>0.647376</td>\n",
              "      <td>-0.221929</td>\n",
              "      <td>0.062723</td>\n",
              "      <td>0.061458</td>\n",
              "      <td>123.50</td>\n",
              "      <td>0.0</td>\n",
              "    </tr>\n",
              "    <tr>\n",
              "      <th>4</th>\n",
              "      <td>2</td>\n",
              "      <td>-1.158233</td>\n",
              "      <td>0.877737</td>\n",
              "      <td>1.548718</td>\n",
              "      <td>0.403034</td>\n",
              "      <td>-0.407193</td>\n",
              "      <td>0.095921</td>\n",
              "      <td>0.592941</td>\n",
              "      <td>-0.270533</td>\n",
              "      <td>0.817739</td>\n",
              "      <td>...</td>\n",
              "      <td>-0.009431</td>\n",
              "      <td>0.798278</td>\n",
              "      <td>-0.137458</td>\n",
              "      <td>0.141267</td>\n",
              "      <td>-0.206010</td>\n",
              "      <td>0.502292</td>\n",
              "      <td>0.219422</td>\n",
              "      <td>0.215153</td>\n",
              "      <td>69.99</td>\n",
              "      <td>0.0</td>\n",
              "    </tr>\n",
              "  </tbody>\n",
              "</table>\n",
              "<p>5 rows × 31 columns</p>\n",
              "</div>\n",
              "      <button class=\"colab-df-convert\" onclick=\"convertToInteractive('df-d34a4160-e401-4aa9-a9d6-fbd3cf9e7760')\"\n",
              "              title=\"Convert this dataframe to an interactive table.\"\n",
              "              style=\"display:none;\">\n",
              "        \n",
              "  <svg xmlns=\"http://www.w3.org/2000/svg\" height=\"24px\"viewBox=\"0 0 24 24\"\n",
              "       width=\"24px\">\n",
              "    <path d=\"M0 0h24v24H0V0z\" fill=\"none\"/>\n",
              "    <path d=\"M18.56 5.44l.94 2.06.94-2.06 2.06-.94-2.06-.94-.94-2.06-.94 2.06-2.06.94zm-11 1L8.5 8.5l.94-2.06 2.06-.94-2.06-.94L8.5 2.5l-.94 2.06-2.06.94zm10 10l.94 2.06.94-2.06 2.06-.94-2.06-.94-.94-2.06-.94 2.06-2.06.94z\"/><path d=\"M17.41 7.96l-1.37-1.37c-.4-.4-.92-.59-1.43-.59-.52 0-1.04.2-1.43.59L10.3 9.45l-7.72 7.72c-.78.78-.78 2.05 0 2.83L4 21.41c.39.39.9.59 1.41.59.51 0 1.02-.2 1.41-.59l7.78-7.78 2.81-2.81c.8-.78.8-2.07 0-2.86zM5.41 20L4 18.59l7.72-7.72 1.47 1.35L5.41 20z\"/>\n",
              "  </svg>\n",
              "      </button>\n",
              "      \n",
              "  <style>\n",
              "    .colab-df-container {\n",
              "      display:flex;\n",
              "      flex-wrap:wrap;\n",
              "      gap: 12px;\n",
              "    }\n",
              "\n",
              "    .colab-df-convert {\n",
              "      background-color: #E8F0FE;\n",
              "      border: none;\n",
              "      border-radius: 50%;\n",
              "      cursor: pointer;\n",
              "      display: none;\n",
              "      fill: #1967D2;\n",
              "      height: 32px;\n",
              "      padding: 0 0 0 0;\n",
              "      width: 32px;\n",
              "    }\n",
              "\n",
              "    .colab-df-convert:hover {\n",
              "      background-color: #E2EBFA;\n",
              "      box-shadow: 0px 1px 2px rgba(60, 64, 67, 0.3), 0px 1px 3px 1px rgba(60, 64, 67, 0.15);\n",
              "      fill: #174EA6;\n",
              "    }\n",
              "\n",
              "    [theme=dark] .colab-df-convert {\n",
              "      background-color: #3B4455;\n",
              "      fill: #D2E3FC;\n",
              "    }\n",
              "\n",
              "    [theme=dark] .colab-df-convert:hover {\n",
              "      background-color: #434B5C;\n",
              "      box-shadow: 0px 1px 3px 1px rgba(0, 0, 0, 0.15);\n",
              "      filter: drop-shadow(0px 1px 2px rgba(0, 0, 0, 0.3));\n",
              "      fill: #FFFFFF;\n",
              "    }\n",
              "  </style>\n",
              "\n",
              "      <script>\n",
              "        const buttonEl =\n",
              "          document.querySelector('#df-d34a4160-e401-4aa9-a9d6-fbd3cf9e7760 button.colab-df-convert');\n",
              "        buttonEl.style.display =\n",
              "          google.colab.kernel.accessAllowed ? 'block' : 'none';\n",
              "\n",
              "        async function convertToInteractive(key) {\n",
              "          const element = document.querySelector('#df-d34a4160-e401-4aa9-a9d6-fbd3cf9e7760');\n",
              "          const dataTable =\n",
              "            await google.colab.kernel.invokeFunction('convertToInteractive',\n",
              "                                                     [key], {});\n",
              "          if (!dataTable) return;\n",
              "\n",
              "          const docLinkHtml = 'Like what you see? Visit the ' +\n",
              "            '<a target=\"_blank\" href=https://colab.research.google.com/notebooks/data_table.ipynb>data table notebook</a>'\n",
              "            + ' to learn more about interactive tables.';\n",
              "          element.innerHTML = '';\n",
              "          dataTable['output_type'] = 'display_data';\n",
              "          await google.colab.output.renderOutput(dataTable, element);\n",
              "          const docLink = document.createElement('div');\n",
              "          docLink.innerHTML = docLinkHtml;\n",
              "          element.appendChild(docLink);\n",
              "        }\n",
              "      </script>\n",
              "    </div>\n",
              "  </div>\n",
              "  "
            ]
          },
          "metadata": {},
          "execution_count": 1
        }
      ],
      "source": [
        "import numpy as np\n",
        "import pandas as pd\n",
        "import matplotlib.pyplot as plt\n",
        "import seaborn as sns\n",
        "sns.set()\n",
        "%matplotlib inline\n",
        "df=pd.read_csv('/content/creditcard.csv')\n",
        "print(df.shape)\n",
        "df.head()"
      ]
    },
    {
      "cell_type": "code",
      "source": [
        "df.info()"
      ],
      "metadata": {
        "colab": {
          "base_uri": "https://localhost:8080/"
        },
        "id": "I9Zimc4YCA38",
        "outputId": "bf07be21-522b-4fc1-edcb-308a6690e2fc"
      },
      "execution_count": null,
      "outputs": [
        {
          "output_type": "stream",
          "name": "stdout",
          "text": [
            "<class 'pandas.core.frame.DataFrame'>\n",
            "RangeIndex: 3973 entries, 0 to 3972\n",
            "Data columns (total 31 columns):\n",
            " #   Column  Non-Null Count  Dtype  \n",
            "---  ------  --------------  -----  \n",
            " 0   Time    3973 non-null   int64  \n",
            " 1   V1      3973 non-null   float64\n",
            " 2   V2      3973 non-null   float64\n",
            " 3   V3      3973 non-null   float64\n",
            " 4   V4      3973 non-null   float64\n",
            " 5   V5      3973 non-null   float64\n",
            " 6   V6      3973 non-null   float64\n",
            " 7   V7      3973 non-null   float64\n",
            " 8   V8      3973 non-null   float64\n",
            " 9   V9      3973 non-null   float64\n",
            " 10  V10     3973 non-null   float64\n",
            " 11  V11     3973 non-null   float64\n",
            " 12  V12     3973 non-null   float64\n",
            " 13  V13     3973 non-null   float64\n",
            " 14  V14     3973 non-null   float64\n",
            " 15  V15     3973 non-null   float64\n",
            " 16  V16     3973 non-null   float64\n",
            " 17  V17     3973 non-null   float64\n",
            " 18  V18     3973 non-null   float64\n",
            " 19  V19     3973 non-null   float64\n",
            " 20  V20     3973 non-null   float64\n",
            " 21  V21     3973 non-null   float64\n",
            " 22  V22     3973 non-null   float64\n",
            " 23  V23     3972 non-null   float64\n",
            " 24  V24     3972 non-null   float64\n",
            " 25  V25     3972 non-null   float64\n",
            " 26  V26     3972 non-null   float64\n",
            " 27  V27     3972 non-null   float64\n",
            " 28  V28     3972 non-null   float64\n",
            " 29  Amount  3972 non-null   float64\n",
            " 30  Class   3972 non-null   float64\n",
            "dtypes: float64(30), int64(1)\n",
            "memory usage: 962.3 KB\n"
          ]
        }
      ]
    },
    {
      "cell_type": "code",
      "source": [
        "df.describe()"
      ],
      "metadata": {
        "colab": {
          "base_uri": "https://localhost:8080/",
          "height": 393
        },
        "id": "PUMPfaHsCHmt",
        "outputId": "81e7d697-8d50-440d-d81f-3b29a279ec06"
      },
      "execution_count": null,
      "outputs": [
        {
          "output_type": "execute_result",
          "data": {
            "text/plain": [
              "              Time           V1           V2           V3           V4  \\\n",
              "count  3973.000000  3973.000000  3973.000000  3973.000000  3973.000000   \n",
              "mean   1638.724138    -0.333723     0.308691     0.837062     0.013144   \n",
              "std    1016.577498     1.351976     1.180436     0.981057     1.418751   \n",
              "min       0.000000   -12.168192   -15.732974   -12.389545    -4.657545   \n",
              "25%     750.000000    -1.030747    -0.155734     0.287224    -0.908469   \n",
              "50%    1526.000000    -0.451819     0.409641     0.884503     0.099497   \n",
              "75%    2526.000000     1.070572     0.921588     1.433851     0.982710   \n",
              "max    3624.000000     1.685314     6.118940     4.017561     6.013346   \n",
              "\n",
              "                V5           V6           V7           V8           V9  ...  \\\n",
              "count  3973.000000  3973.000000  3973.000000  3973.000000  3973.000000  ...   \n",
              "mean     -0.029177     0.052836     0.146895    -0.071352     0.055778  ...   \n",
              "std       1.207632     1.286610     1.090769     1.294647     0.919087  ...   \n",
              "min     -32.092129    -7.465603   -11.164794   -23.632502    -3.336805  ...   \n",
              "25%      -0.573740    -0.735876    -0.278697    -0.205430    -0.473894  ...   \n",
              "50%      -0.089809    -0.209577     0.162196     0.028639     0.032286  ...   \n",
              "75%       0.396675     0.449217     0.635055     0.298866     0.622704  ...   \n",
              "max      10.658654    21.393069    34.303177     3.877662     6.450992  ...   \n",
              "\n",
              "               V21          V22          V23          V24          V25  \\\n",
              "count  3973.000000  3973.000000  3972.000000  3972.000000  3972.000000   \n",
              "mean      0.010465    -0.082885    -0.058484     0.029106     0.095278   \n",
              "std       0.855829     0.635482     0.391158     0.603965     0.405989   \n",
              "min     -11.273890    -5.707801    -7.996811    -2.162523    -2.322906   \n",
              "25%      -0.211812    -0.512434    -0.210615    -0.338940    -0.141891   \n",
              "50%      -0.053234    -0.064435    -0.069939     0.100635     0.108219   \n",
              "75%       0.102520     0.345346     0.062502     0.432692     0.361309   \n",
              "max      15.631453     4.393846     4.095021     1.215279     1.727063   \n",
              "\n",
              "               V26          V27          V28       Amount        Class  \n",
              "count  3972.000000  3972.000000  3972.000000  3972.000000  3972.000000  \n",
              "mean     -0.012623     0.044638     0.002639    65.000101     0.000504  \n",
              "std       0.503818     0.352752     0.254136   213.688183     0.022437  \n",
              "min      -1.338556    -5.336289    -2.909294     0.000000     0.000000  \n",
              "25%      -0.339998    -0.041461    -0.020983     2.265000     0.000000  \n",
              "50%      -0.025647     0.033751     0.021264    12.990000     0.000000  \n",
              "75%       0.288406     0.205736     0.087058    54.990000     0.000000  \n",
              "max       3.463246     3.852046     4.157934  7712.430000     1.000000  \n",
              "\n",
              "[8 rows x 31 columns]"
            ],
            "text/html": [
              "\n",
              "  <div id=\"df-a4a0b0b3-e1d0-4220-8a73-9760637077e8\">\n",
              "    <div class=\"colab-df-container\">\n",
              "      <div>\n",
              "<style scoped>\n",
              "    .dataframe tbody tr th:only-of-type {\n",
              "        vertical-align: middle;\n",
              "    }\n",
              "\n",
              "    .dataframe tbody tr th {\n",
              "        vertical-align: top;\n",
              "    }\n",
              "\n",
              "    .dataframe thead th {\n",
              "        text-align: right;\n",
              "    }\n",
              "</style>\n",
              "<table border=\"1\" class=\"dataframe\">\n",
              "  <thead>\n",
              "    <tr style=\"text-align: right;\">\n",
              "      <th></th>\n",
              "      <th>Time</th>\n",
              "      <th>V1</th>\n",
              "      <th>V2</th>\n",
              "      <th>V3</th>\n",
              "      <th>V4</th>\n",
              "      <th>V5</th>\n",
              "      <th>V6</th>\n",
              "      <th>V7</th>\n",
              "      <th>V8</th>\n",
              "      <th>V9</th>\n",
              "      <th>...</th>\n",
              "      <th>V21</th>\n",
              "      <th>V22</th>\n",
              "      <th>V23</th>\n",
              "      <th>V24</th>\n",
              "      <th>V25</th>\n",
              "      <th>V26</th>\n",
              "      <th>V27</th>\n",
              "      <th>V28</th>\n",
              "      <th>Amount</th>\n",
              "      <th>Class</th>\n",
              "    </tr>\n",
              "  </thead>\n",
              "  <tbody>\n",
              "    <tr>\n",
              "      <th>count</th>\n",
              "      <td>3973.000000</td>\n",
              "      <td>3973.000000</td>\n",
              "      <td>3973.000000</td>\n",
              "      <td>3973.000000</td>\n",
              "      <td>3973.000000</td>\n",
              "      <td>3973.000000</td>\n",
              "      <td>3973.000000</td>\n",
              "      <td>3973.000000</td>\n",
              "      <td>3973.000000</td>\n",
              "      <td>3973.000000</td>\n",
              "      <td>...</td>\n",
              "      <td>3973.000000</td>\n",
              "      <td>3973.000000</td>\n",
              "      <td>3972.000000</td>\n",
              "      <td>3972.000000</td>\n",
              "      <td>3972.000000</td>\n",
              "      <td>3972.000000</td>\n",
              "      <td>3972.000000</td>\n",
              "      <td>3972.000000</td>\n",
              "      <td>3972.000000</td>\n",
              "      <td>3972.000000</td>\n",
              "    </tr>\n",
              "    <tr>\n",
              "      <th>mean</th>\n",
              "      <td>1638.724138</td>\n",
              "      <td>-0.333723</td>\n",
              "      <td>0.308691</td>\n",
              "      <td>0.837062</td>\n",
              "      <td>0.013144</td>\n",
              "      <td>-0.029177</td>\n",
              "      <td>0.052836</td>\n",
              "      <td>0.146895</td>\n",
              "      <td>-0.071352</td>\n",
              "      <td>0.055778</td>\n",
              "      <td>...</td>\n",
              "      <td>0.010465</td>\n",
              "      <td>-0.082885</td>\n",
              "      <td>-0.058484</td>\n",
              "      <td>0.029106</td>\n",
              "      <td>0.095278</td>\n",
              "      <td>-0.012623</td>\n",
              "      <td>0.044638</td>\n",
              "      <td>0.002639</td>\n",
              "      <td>65.000101</td>\n",
              "      <td>0.000504</td>\n",
              "    </tr>\n",
              "    <tr>\n",
              "      <th>std</th>\n",
              "      <td>1016.577498</td>\n",
              "      <td>1.351976</td>\n",
              "      <td>1.180436</td>\n",
              "      <td>0.981057</td>\n",
              "      <td>1.418751</td>\n",
              "      <td>1.207632</td>\n",
              "      <td>1.286610</td>\n",
              "      <td>1.090769</td>\n",
              "      <td>1.294647</td>\n",
              "      <td>0.919087</td>\n",
              "      <td>...</td>\n",
              "      <td>0.855829</td>\n",
              "      <td>0.635482</td>\n",
              "      <td>0.391158</td>\n",
              "      <td>0.603965</td>\n",
              "      <td>0.405989</td>\n",
              "      <td>0.503818</td>\n",
              "      <td>0.352752</td>\n",
              "      <td>0.254136</td>\n",
              "      <td>213.688183</td>\n",
              "      <td>0.022437</td>\n",
              "    </tr>\n",
              "    <tr>\n",
              "      <th>min</th>\n",
              "      <td>0.000000</td>\n",
              "      <td>-12.168192</td>\n",
              "      <td>-15.732974</td>\n",
              "      <td>-12.389545</td>\n",
              "      <td>-4.657545</td>\n",
              "      <td>-32.092129</td>\n",
              "      <td>-7.465603</td>\n",
              "      <td>-11.164794</td>\n",
              "      <td>-23.632502</td>\n",
              "      <td>-3.336805</td>\n",
              "      <td>...</td>\n",
              "      <td>-11.273890</td>\n",
              "      <td>-5.707801</td>\n",
              "      <td>-7.996811</td>\n",
              "      <td>-2.162523</td>\n",
              "      <td>-2.322906</td>\n",
              "      <td>-1.338556</td>\n",
              "      <td>-5.336289</td>\n",
              "      <td>-2.909294</td>\n",
              "      <td>0.000000</td>\n",
              "      <td>0.000000</td>\n",
              "    </tr>\n",
              "    <tr>\n",
              "      <th>25%</th>\n",
              "      <td>750.000000</td>\n",
              "      <td>-1.030747</td>\n",
              "      <td>-0.155734</td>\n",
              "      <td>0.287224</td>\n",
              "      <td>-0.908469</td>\n",
              "      <td>-0.573740</td>\n",
              "      <td>-0.735876</td>\n",
              "      <td>-0.278697</td>\n",
              "      <td>-0.205430</td>\n",
              "      <td>-0.473894</td>\n",
              "      <td>...</td>\n",
              "      <td>-0.211812</td>\n",
              "      <td>-0.512434</td>\n",
              "      <td>-0.210615</td>\n",
              "      <td>-0.338940</td>\n",
              "      <td>-0.141891</td>\n",
              "      <td>-0.339998</td>\n",
              "      <td>-0.041461</td>\n",
              "      <td>-0.020983</td>\n",
              "      <td>2.265000</td>\n",
              "      <td>0.000000</td>\n",
              "    </tr>\n",
              "    <tr>\n",
              "      <th>50%</th>\n",
              "      <td>1526.000000</td>\n",
              "      <td>-0.451819</td>\n",
              "      <td>0.409641</td>\n",
              "      <td>0.884503</td>\n",
              "      <td>0.099497</td>\n",
              "      <td>-0.089809</td>\n",
              "      <td>-0.209577</td>\n",
              "      <td>0.162196</td>\n",
              "      <td>0.028639</td>\n",
              "      <td>0.032286</td>\n",
              "      <td>...</td>\n",
              "      <td>-0.053234</td>\n",
              "      <td>-0.064435</td>\n",
              "      <td>-0.069939</td>\n",
              "      <td>0.100635</td>\n",
              "      <td>0.108219</td>\n",
              "      <td>-0.025647</td>\n",
              "      <td>0.033751</td>\n",
              "      <td>0.021264</td>\n",
              "      <td>12.990000</td>\n",
              "      <td>0.000000</td>\n",
              "    </tr>\n",
              "    <tr>\n",
              "      <th>75%</th>\n",
              "      <td>2526.000000</td>\n",
              "      <td>1.070572</td>\n",
              "      <td>0.921588</td>\n",
              "      <td>1.433851</td>\n",
              "      <td>0.982710</td>\n",
              "      <td>0.396675</td>\n",
              "      <td>0.449217</td>\n",
              "      <td>0.635055</td>\n",
              "      <td>0.298866</td>\n",
              "      <td>0.622704</td>\n",
              "      <td>...</td>\n",
              "      <td>0.102520</td>\n",
              "      <td>0.345346</td>\n",
              "      <td>0.062502</td>\n",
              "      <td>0.432692</td>\n",
              "      <td>0.361309</td>\n",
              "      <td>0.288406</td>\n",
              "      <td>0.205736</td>\n",
              "      <td>0.087058</td>\n",
              "      <td>54.990000</td>\n",
              "      <td>0.000000</td>\n",
              "    </tr>\n",
              "    <tr>\n",
              "      <th>max</th>\n",
              "      <td>3624.000000</td>\n",
              "      <td>1.685314</td>\n",
              "      <td>6.118940</td>\n",
              "      <td>4.017561</td>\n",
              "      <td>6.013346</td>\n",
              "      <td>10.658654</td>\n",
              "      <td>21.393069</td>\n",
              "      <td>34.303177</td>\n",
              "      <td>3.877662</td>\n",
              "      <td>6.450992</td>\n",
              "      <td>...</td>\n",
              "      <td>15.631453</td>\n",
              "      <td>4.393846</td>\n",
              "      <td>4.095021</td>\n",
              "      <td>1.215279</td>\n",
              "      <td>1.727063</td>\n",
              "      <td>3.463246</td>\n",
              "      <td>3.852046</td>\n",
              "      <td>4.157934</td>\n",
              "      <td>7712.430000</td>\n",
              "      <td>1.000000</td>\n",
              "    </tr>\n",
              "  </tbody>\n",
              "</table>\n",
              "<p>8 rows × 31 columns</p>\n",
              "</div>\n",
              "      <button class=\"colab-df-convert\" onclick=\"convertToInteractive('df-a4a0b0b3-e1d0-4220-8a73-9760637077e8')\"\n",
              "              title=\"Convert this dataframe to an interactive table.\"\n",
              "              style=\"display:none;\">\n",
              "        \n",
              "  <svg xmlns=\"http://www.w3.org/2000/svg\" height=\"24px\"viewBox=\"0 0 24 24\"\n",
              "       width=\"24px\">\n",
              "    <path d=\"M0 0h24v24H0V0z\" fill=\"none\"/>\n",
              "    <path d=\"M18.56 5.44l.94 2.06.94-2.06 2.06-.94-2.06-.94-.94-2.06-.94 2.06-2.06.94zm-11 1L8.5 8.5l.94-2.06 2.06-.94-2.06-.94L8.5 2.5l-.94 2.06-2.06.94zm10 10l.94 2.06.94-2.06 2.06-.94-2.06-.94-.94-2.06-.94 2.06-2.06.94z\"/><path d=\"M17.41 7.96l-1.37-1.37c-.4-.4-.92-.59-1.43-.59-.52 0-1.04.2-1.43.59L10.3 9.45l-7.72 7.72c-.78.78-.78 2.05 0 2.83L4 21.41c.39.39.9.59 1.41.59.51 0 1.02-.2 1.41-.59l7.78-7.78 2.81-2.81c.8-.78.8-2.07 0-2.86zM5.41 20L4 18.59l7.72-7.72 1.47 1.35L5.41 20z\"/>\n",
              "  </svg>\n",
              "      </button>\n",
              "      \n",
              "  <style>\n",
              "    .colab-df-container {\n",
              "      display:flex;\n",
              "      flex-wrap:wrap;\n",
              "      gap: 12px;\n",
              "    }\n",
              "\n",
              "    .colab-df-convert {\n",
              "      background-color: #E8F0FE;\n",
              "      border: none;\n",
              "      border-radius: 50%;\n",
              "      cursor: pointer;\n",
              "      display: none;\n",
              "      fill: #1967D2;\n",
              "      height: 32px;\n",
              "      padding: 0 0 0 0;\n",
              "      width: 32px;\n",
              "    }\n",
              "\n",
              "    .colab-df-convert:hover {\n",
              "      background-color: #E2EBFA;\n",
              "      box-shadow: 0px 1px 2px rgba(60, 64, 67, 0.3), 0px 1px 3px 1px rgba(60, 64, 67, 0.15);\n",
              "      fill: #174EA6;\n",
              "    }\n",
              "\n",
              "    [theme=dark] .colab-df-convert {\n",
              "      background-color: #3B4455;\n",
              "      fill: #D2E3FC;\n",
              "    }\n",
              "\n",
              "    [theme=dark] .colab-df-convert:hover {\n",
              "      background-color: #434B5C;\n",
              "      box-shadow: 0px 1px 3px 1px rgba(0, 0, 0, 0.15);\n",
              "      filter: drop-shadow(0px 1px 2px rgba(0, 0, 0, 0.3));\n",
              "      fill: #FFFFFF;\n",
              "    }\n",
              "  </style>\n",
              "\n",
              "      <script>\n",
              "        const buttonEl =\n",
              "          document.querySelector('#df-a4a0b0b3-e1d0-4220-8a73-9760637077e8 button.colab-df-convert');\n",
              "        buttonEl.style.display =\n",
              "          google.colab.kernel.accessAllowed ? 'block' : 'none';\n",
              "\n",
              "        async function convertToInteractive(key) {\n",
              "          const element = document.querySelector('#df-a4a0b0b3-e1d0-4220-8a73-9760637077e8');\n",
              "          const dataTable =\n",
              "            await google.colab.kernel.invokeFunction('convertToInteractive',\n",
              "                                                     [key], {});\n",
              "          if (!dataTable) return;\n",
              "\n",
              "          const docLinkHtml = 'Like what you see? Visit the ' +\n",
              "            '<a target=\"_blank\" href=https://colab.research.google.com/notebooks/data_table.ipynb>data table notebook</a>'\n",
              "            + ' to learn more about interactive tables.';\n",
              "          element.innerHTML = '';\n",
              "          dataTable['output_type'] = 'display_data';\n",
              "          await google.colab.output.renderOutput(dataTable, element);\n",
              "          const docLink = document.createElement('div');\n",
              "          docLink.innerHTML = docLinkHtml;\n",
              "          element.appendChild(docLink);\n",
              "        }\n",
              "      </script>\n",
              "    </div>\n",
              "  </div>\n",
              "  "
            ]
          },
          "metadata": {},
          "execution_count": 3
        }
      ]
    },
    {
      "cell_type": "code",
      "source": [
        "from pandas.core.arrays import boolean\n",
        "df['Class']=df['Class'].astype(bool)"
      ],
      "metadata": {
        "id": "QyFGXa8BN0Pe"
      },
      "execution_count": null,
      "outputs": []
    },
    {
      "cell_type": "code",
      "source": [
        "df.info()"
      ],
      "metadata": {
        "colab": {
          "base_uri": "https://localhost:8080/"
        },
        "id": "2gtxSY-mOwe4",
        "outputId": "0a2a4fd1-da66-47fc-a596-f6bc487e6304"
      },
      "execution_count": null,
      "outputs": [
        {
          "output_type": "stream",
          "name": "stdout",
          "text": [
            "<class 'pandas.core.frame.DataFrame'>\n",
            "RangeIndex: 3973 entries, 0 to 3972\n",
            "Data columns (total 31 columns):\n",
            " #   Column  Non-Null Count  Dtype  \n",
            "---  ------  --------------  -----  \n",
            " 0   Time    3973 non-null   int64  \n",
            " 1   V1      3973 non-null   float64\n",
            " 2   V2      3973 non-null   float64\n",
            " 3   V3      3973 non-null   float64\n",
            " 4   V4      3973 non-null   float64\n",
            " 5   V5      3973 non-null   float64\n",
            " 6   V6      3973 non-null   float64\n",
            " 7   V7      3973 non-null   float64\n",
            " 8   V8      3973 non-null   float64\n",
            " 9   V9      3973 non-null   float64\n",
            " 10  V10     3973 non-null   float64\n",
            " 11  V11     3973 non-null   float64\n",
            " 12  V12     3973 non-null   float64\n",
            " 13  V13     3973 non-null   float64\n",
            " 14  V14     3973 non-null   float64\n",
            " 15  V15     3973 non-null   float64\n",
            " 16  V16     3973 non-null   float64\n",
            " 17  V17     3973 non-null   float64\n",
            " 18  V18     3973 non-null   float64\n",
            " 19  V19     3973 non-null   float64\n",
            " 20  V20     3973 non-null   float64\n",
            " 21  V21     3973 non-null   float64\n",
            " 22  V22     3973 non-null   float64\n",
            " 23  V23     3972 non-null   float64\n",
            " 24  V24     3972 non-null   float64\n",
            " 25  V25     3972 non-null   float64\n",
            " 26  V26     3972 non-null   float64\n",
            " 27  V27     3972 non-null   float64\n",
            " 28  V28     3972 non-null   float64\n",
            " 29  Amount  3972 non-null   float64\n",
            " 30  Class   3973 non-null   bool   \n",
            "dtypes: bool(1), float64(29), int64(1)\n",
            "memory usage: 935.2 KB\n"
          ]
        }
      ]
    },
    {
      "cell_type": "code",
      "source": [
        "df.isnull().sum()"
      ],
      "metadata": {
        "colab": {
          "base_uri": "https://localhost:8080/"
        },
        "id": "KlFxgcN6Do4e",
        "outputId": "1a0bb1b5-e160-4287-80cd-b29d09a4b005"
      },
      "execution_count": null,
      "outputs": [
        {
          "output_type": "execute_result",
          "data": {
            "text/plain": [
              "Time      0\n",
              "V1        0\n",
              "V2        0\n",
              "V3        0\n",
              "V4        0\n",
              "V5        0\n",
              "V6        0\n",
              "V7        0\n",
              "V8        0\n",
              "V9        0\n",
              "V10       0\n",
              "V11       0\n",
              "V12       0\n",
              "V13       0\n",
              "V14       0\n",
              "V15       0\n",
              "V16       0\n",
              "V17       0\n",
              "V18       0\n",
              "V19       0\n",
              "V20       0\n",
              "V21       0\n",
              "V22       0\n",
              "V23       1\n",
              "V24       1\n",
              "V25       1\n",
              "V26       1\n",
              "V27       1\n",
              "V28       1\n",
              "Amount    1\n",
              "Class     0\n",
              "dtype: int64"
            ]
          },
          "metadata": {},
          "execution_count": 6
        }
      ]
    },
    {
      "cell_type": "code",
      "source": [
        "df.fillna(df['V3'].mean(),inplace=True)\n",
        "df.fillna(df['V4'].mean(),inplace=True)\n",
        "df.fillna(df['V5'].mean(),inplace=True)\n",
        "df.fillna(df['V6'].mean(),inplace=True)\n",
        "df.fillna(df['V7'].mean(),inplace=True)\n",
        "df.fillna(df['V8'].mean(),inplace=True)\n",
        "df.fillna(df['V9'].mean(),inplace=True)\n",
        "df.fillna(df['V10'].mean(),inplace=True)\n",
        "df.fillna(df['V11'].mean(),inplace=True)\n",
        "df.fillna(df['V12'].mean(),inplace=True)\n",
        "df.fillna(df['V13'].mean(),inplace=True)\n",
        "df.fillna(df['V14'].mean(),inplace=True)\n",
        "df.fillna(df['V15'].mean(),inplace=True)\n",
        "df.fillna(df['V16'].mean(),inplace=True)\n",
        "df.fillna(df['V17'].mean(),inplace=True)\n",
        "df.fillna(df['V18'].mean(),inplace=True)\n",
        "df.fillna(df['V19'].mean(),inplace=True)\n",
        "df.fillna(df['V20'].mean(),inplace=True)\n",
        "df.fillna(df['V21'].mean(),inplace=True)\n",
        "df.fillna(df['V22'].mean(),inplace=True)\n",
        "df.fillna(df['V23'].mean(),inplace=True)\n",
        "df.fillna(df['V24'].mean(),inplace=True)\n",
        "df.fillna(df['V25'].mean(),inplace=True)\n",
        "df.fillna(df['V26'].mean(),inplace=True)\n",
        "df.fillna(df['V27'].mean(),inplace=True)\n",
        "df.fillna(df['V28'].mean(),inplace=True)"
      ],
      "metadata": {
        "id": "L2jChvBlD8NK"
      },
      "execution_count": null,
      "outputs": []
    },
    {
      "cell_type": "code",
      "source": [
        "df.isnull().sum()"
      ],
      "metadata": {
        "colab": {
          "base_uri": "https://localhost:8080/"
        },
        "id": "wd03eqRcFFxy",
        "outputId": "258f4e3f-1feb-4de0-af87-1ae814b91960"
      },
      "execution_count": null,
      "outputs": [
        {
          "output_type": "execute_result",
          "data": {
            "text/plain": [
              "Time      0\n",
              "V1        0\n",
              "V2        0\n",
              "V3        0\n",
              "V4        0\n",
              "V5        0\n",
              "V6        0\n",
              "V7        0\n",
              "V8        0\n",
              "V9        0\n",
              "V10       0\n",
              "V11       0\n",
              "V12       0\n",
              "V13       0\n",
              "V14       0\n",
              "V15       0\n",
              "V16       0\n",
              "V17       0\n",
              "V18       0\n",
              "V19       0\n",
              "V20       0\n",
              "V21       0\n",
              "V22       0\n",
              "V23       0\n",
              "V24       0\n",
              "V25       0\n",
              "V26       0\n",
              "V27       0\n",
              "V28       0\n",
              "Amount    0\n",
              "Class     0\n",
              "dtype: int64"
            ]
          },
          "metadata": {},
          "execution_count": 8
        }
      ]
    },
    {
      "cell_type": "code",
      "source": [
        "class_names = {0:'Not Fraud', 1:'Fraud'}\n",
        "print(df.Class.value_counts().rename(index = class_names))"
      ],
      "metadata": {
        "colab": {
          "base_uri": "https://localhost:8080/"
        },
        "id": "9EIw7OlpCOO1",
        "outputId": "02ee4677-cc87-43a8-9c5d-2b7ca8499cbe"
      },
      "execution_count": null,
      "outputs": [
        {
          "output_type": "stream",
          "name": "stdout",
          "text": [
            "Not Fraud    3970\n",
            "Fraud           3\n",
            "Name: Class, dtype: int64\n"
          ]
        }
      ]
    },
    {
      "cell_type": "code",
      "source": [
        "from sklearn.model_selection import train_test_split"
      ],
      "metadata": {
        "id": "BOz2P5OxCcYI"
      },
      "execution_count": null,
      "outputs": []
    },
    {
      "cell_type": "code",
      "source": [
        "feature_names = df.iloc[:, 1:30].columns\n",
        "target = df.iloc[:1, 30: ].columns\n",
        "print(feature_names)\n",
        "print(target)"
      ],
      "metadata": {
        "colab": {
          "base_uri": "https://localhost:8080/"
        },
        "id": "Tgj2EQGBC1JM",
        "outputId": "08a05d41-56a3-45e9-a2be-e356adb1ff35"
      },
      "execution_count": null,
      "outputs": [
        {
          "output_type": "stream",
          "name": "stdout",
          "text": [
            "Index(['V1', 'V2', 'V3', 'V4', 'V5', 'V6', 'V7', 'V8', 'V9', 'V10', 'V11',\n",
            "       'V12', 'V13', 'V14', 'V15', 'V16', 'V17', 'V18', 'V19', 'V20', 'V21',\n",
            "       'V22', 'V23', 'V24', 'V25', 'V26', 'V27', 'V28', 'Amount'],\n",
            "      dtype='object')\n",
            "Index(['Class'], dtype='object')\n"
          ]
        }
      ]
    },
    {
      "cell_type": "code",
      "source": [
        "data_features = df[feature_names]\n",
        "data_target = df[target]"
      ],
      "metadata": {
        "id": "1WObkST6C7IG"
      },
      "execution_count": null,
      "outputs": []
    },
    {
      "cell_type": "code",
      "source": [
        "X_train, X_test, y_train, y_test = train_test_split(data_features, data_target, train_size=0.70, test_size=0.30, random_state=1)\n",
        "print(\"Length of X_train is: {X_train}\".format(X_train = len(X_train)))\n",
        "print(\"Length of X_test is: {X_test}\".format(X_test = len(X_test)))\n",
        "print(\"Length of y_train is: {y_train}\".format(y_train = len(y_train)))\n",
        "print(\"Length of y_test is: {y_test}\".format(y_test = len(y_test)))"
      ],
      "metadata": {
        "colab": {
          "base_uri": "https://localhost:8080/"
        },
        "id": "ebjnaN4iDC6r",
        "outputId": "b79e8333-1a94-4669-a31e-5844fd6714ff"
      },
      "execution_count": null,
      "outputs": [
        {
          "output_type": "stream",
          "name": "stdout",
          "text": [
            "Length of X_train is: 2781\n",
            "Length of X_test is: 1192\n",
            "Length of y_train is: 2781\n",
            "Length of y_test is: 1192\n"
          ]
        }
      ]
    },
    {
      "cell_type": "code",
      "source": [
        "from sklearn.linear_model import LogisticRegression\n",
        "from sklearn.metrics import confusion_matrix"
      ],
      "metadata": {
        "id": "CEX1rpGvDFED"
      },
      "execution_count": null,
      "outputs": []
    },
    {
      "cell_type": "code",
      "source": [
        "model = LogisticRegression()\n",
        "model.fit(X_train, y_train.values.ravel())"
      ],
      "metadata": {
        "colab": {
          "base_uri": "https://localhost:8080/"
        },
        "id": "8fTqCLnuDPZj",
        "outputId": "7ef1594b-8913-4cbc-b970-63cb2fde792e"
      },
      "execution_count": null,
      "outputs": [
        {
          "output_type": "execute_result",
          "data": {
            "text/plain": [
              "LogisticRegression()"
            ]
          },
          "metadata": {},
          "execution_count": 15
        }
      ]
    },
    {
      "cell_type": "code",
      "source": [
        "pred = model.predict(X_test)"
      ],
      "metadata": {
        "id": "wTY27QfHP7tt"
      },
      "execution_count": null,
      "outputs": []
    },
    {
      "cell_type": "code",
      "source": [
        "from sklearn.metrics import accuracy_score,confusion_matrix\n",
        "print(accuracy_score(y_test,pred))"
      ],
      "metadata": {
        "colab": {
          "base_uri": "https://localhost:8080/"
        },
        "id": "G-7Hlu0tklZB",
        "outputId": "2795c433-d0eb-4ba5-adbe-7baede5441d4"
      },
      "execution_count": null,
      "outputs": [
        {
          "output_type": "stream",
          "name": "stdout",
          "text": [
            "0.9983221476510067\n"
          ]
        }
      ]
    },
    {
      "cell_type": "code",
      "source": [
        "class_names = ['not_fraud', 'fraud']\n",
        "matrix = confusion_matrix(y_test, pred)\n",
        "# Create pandas dataframe\n",
        "dataframe = pd.DataFrame(matrix, index=class_names, columns=class_names)\n",
        "# Create heatmap\n",
        "sns.heatmap(dataframe, annot=True, cbar=None, cmap=\"Blues\", fmt = 'g')\n",
        "plt.title(\"Confusion Matrix\"), plt.tight_layout()\n",
        "plt.ylabel(\"True Class\"), plt.xlabel(\"Predicted Class\")\n",
        "plt.show()"
      ],
      "metadata": {
        "colab": {
          "base_uri": "https://localhost:8080/",
          "height": 314
        },
        "id": "3VuvJcJZQG35",
        "outputId": "981fc6f5-046f-4be0-a7bd-2f6d022a5003"
      },
      "execution_count": null,
      "outputs": [
        {
          "output_type": "display_data",
          "data": {
            "text/plain": [
              "<Figure size 432x288 with 1 Axes>"
            ],
            "image/png": "[encoded data removed]"
          },
          "metadata": {
            "needs_background": "light"
          }
        }
      ]
    },
    {
      "cell_type": "code",
      "source": [
        "from sklearn.metrics import classification_report\n",
        "print(classification_report(y_test,pred))"
      ],
      "metadata": {
        "colab": {
          "base_uri": "https://localhost:8080/"
        },
        "id": "gOo5xSPqQNSE",
        "outputId": "00dce1b2-a733-46dd-efff-a1a083d0da5f"
      },
      "execution_count": null,
      "outputs": [
        {
          "output_type": "stream",
          "name": "stdout",
          "text": [
            "              precision    recall  f1-score   support\n",
            "\n",
            "       False       1.00      1.00      1.00      1190\n",
            "        True       0.00      0.00      0.00         2\n",
            "\n",
            "    accuracy                           1.00      1192\n",
            "   macro avg       0.50      0.50      0.50      1192\n",
            "weighted avg       1.00      1.00      1.00      1192\n",
            "\n"
          ]
        },
        {
          "output_type": "stream",
          "name": "stderr",
          "text": [
            "/usr/local/lib/python3.8/dist-packages/sklearn/metrics/_classification.py:1318: UndefinedMetricWarning: Precision and F-score are ill-defined and being set to 0.0 in labels with no predicted samples. Use `zero_division` parameter to control this behavior.\n",
            "  _warn_prf(average, modifier, msg_start, len(result))\n",
            "/usr/local/lib/python3.8/dist-packages/sklearn/metrics/_classification.py:1318: UndefinedMetricWarning: Precision and F-score are ill-defined and being set to 0.0 in labels with no predicted samples. Use `zero_division` parameter to control this behavior.\n",
            "  _warn_prf(average, modifier, msg_start, len(result))\n",
            "/usr/local/lib/python3.8/dist-packages/sklearn/metrics/_classification.py:1318: UndefinedMetricWarning: Precision and F-score are ill-defined and being set to 0.0 in labels with no predicted samples. Use `zero_division` parameter to control this behavior.\n",
            "  _warn_prf(average, modifier, msg_start, len(result))\n"
          ]
        }
      ]
    },
    {
      "cell_type": "code",
      "source": [
        "from sklearn.svm import SVC\n",
        "s=SVC(kernel='linear')\n",
        "s.fit(X_train,y_train)\n",
        "pred1=s.predict(X_test)"
      ],
      "metadata": {
        "id": "IkJpOw4cQxwn",
        "colab": {
          "base_uri": "https://localhost:8080/"
        },
        "outputId": "2b987958-a230-48e3-9482-475c17bcff05"
      },
      "execution_count": null,
      "outputs": [
        {
          "output_type": "stream",
          "name": "stderr",
          "text": [
            "/usr/local/lib/python3.8/dist-packages/sklearn/utils/validation.py:993: DataConversionWarning: A column-vector y was passed when a 1d array was expected. Please change the shape of y to (n_samples, ), for example using ravel().\n",
            "  y = column_or_1d(y, warn=True)\n"
          ]
        }
      ]
    },
    {
      "cell_type": "code",
      "source": [
        "print(accuracy_score(y_test,pred1))"
      ],
      "metadata": {
        "colab": {
          "base_uri": "https://localhost:8080/"
        },
        "id": "hmgLC7PFkWNq",
        "outputId": "1f5f98e1-602c-402f-c5a4-d71927256664"
      },
      "execution_count": null,
      "outputs": [
        {
          "output_type": "stream",
          "name": "stdout",
          "text": [
            "0.9983221476510067\n"
          ]
        }
      ]
    },
    {
      "cell_type": "code",
      "source": [
        "print(confusion_matrix(y_test,pred1))"
      ],
      "metadata": {
        "colab": {
          "base_uri": "https://localhost:8080/"
        },
        "id": "gnQNYrf0lSLl",
        "outputId": "f21045ab-b2e6-4807-85ac-fa9649bb4a4d"
      },
      "execution_count": null,
      "outputs": [
        {
          "output_type": "stream",
          "name": "stdout",
          "text": [
            "[[1190    0]\n",
            " [   2    0]]\n"
          ]
        }
      ]
    },
    {
      "cell_type": "code",
      "source": [
        "print(classification_report(y_test,pred1))"
      ],
      "metadata": {
        "colab": {
          "base_uri": "https://localhost:8080/"
        },
        "id": "xExgR9vSlCiT",
        "outputId": "f2e82ba5-2ea1-42a3-82f3-d129297f7f0d"
      },
      "execution_count": null,
      "outputs": [
        {
          "output_type": "stream",
          "name": "stdout",
          "text": [
            "              precision    recall  f1-score   support\n",
            "\n",
            "       False       1.00      1.00      1.00      1190\n",
            "        True       0.00      0.00      0.00         2\n",
            "\n",
            "    accuracy                           1.00      1192\n",
            "   macro avg       0.50      0.50      0.50      1192\n",
            "weighted avg       1.00      1.00      1.00      1192\n",
            "\n"
          ]
        },
        {
          "output_type": "stream",
          "name": "stderr",
          "text": [
            "/usr/local/lib/python3.8/dist-packages/sklearn/metrics/_classification.py:1318: UndefinedMetricWarning: Precision and F-score are ill-defined and being set to 0.0 in labels with no predicted samples. Use `zero_division` parameter to control this behavior.\n",
            "  _warn_prf(average, modifier, msg_start, len(result))\n",
            "/usr/local/lib/python3.8/dist-packages/sklearn/metrics/_classification.py:1318: UndefinedMetricWarning: Precision and F-score are ill-defined and being set to 0.0 in labels with no predicted samples. Use `zero_division` parameter to control this behavior.\n",
            "  _warn_prf(average, modifier, msg_start, len(result))\n",
            "/usr/local/lib/python3.8/dist-packages/sklearn/metrics/_classification.py:1318: UndefinedMetricWarning: Precision and F-score are ill-defined and being set to 0.0 in labels with no predicted samples. Use `zero_division` parameter to control this behavior.\n",
            "  _warn_prf(average, modifier, msg_start, len(result))\n"
          ]
        }
      ]
    },
    {
      "cell_type": "code",
      "source": [
        "from sklearn.tree import DecisionTreeClassifier\n",
        "d=DecisionTreeClassifier()\n",
        "d.fit(X_train,y_train)\n",
        "pred2=d.predict(X_test)\n",
        "print(accuracy_score(y_test,pred2))"
      ],
      "metadata": {
        "colab": {
          "base_uri": "https://localhost:8080/"
        },
        "id": "m8HbfTbFlM1m",
        "outputId": "83d5aa36-de70-4d7c-81f6-231c5b96351e"
      },
      "execution_count": null,
      "outputs": [
        {
          "output_type": "stream",
          "name": "stdout",
          "text": [
            "0.99748322147651\n"
          ]
        }
      ]
    },
    {
      "cell_type": "code",
      "source": [
        "print(confusion_matrix(y_test,pred2))"
      ],
      "metadata": {
        "colab": {
          "base_uri": "https://localhost:8080/"
        },
        "id": "g_UI0Oo-l8pV",
        "outputId": "a89e6e53-d481-4053-9d46-6645d26adee0"
      },
      "execution_count": null,
      "outputs": [
        {
          "output_type": "stream",
          "name": "stdout",
          "text": [
            "[[1189    1]\n",
            " [   2    0]]\n"
          ]
        }
      ]
    },
    {
      "cell_type": "code",
      "source": [
        "print(classification_report(y_test,pred2))"
      ],
      "metadata": {
        "colab": {
          "base_uri": "https://localhost:8080/"
        },
        "id": "tv-1mp1RmEES",
        "outputId": "bcec872c-7987-480c-c350-4fdbfe17b907"
      },
      "execution_count": null,
      "outputs": [
        {
          "output_type": "stream",
          "name": "stdout",
          "text": [
            "              precision    recall  f1-score   support\n",
            "\n",
            "       False       1.00      1.00      1.00      1190\n",
            "        True       0.00      0.00      0.00         2\n",
            "\n",
            "    accuracy                           1.00      1192\n",
            "   macro avg       0.50      0.50      0.50      1192\n",
            "weighted avg       1.00      1.00      1.00      1192\n",
            "\n"
          ]
        }
      ]
    },
    {
      "cell_type": "code",
      "source": [
        "from sklearn.neighbors import KNeighborsClassifier\n",
        "knn=KNeighborsClassifier(n_neighbors=7)\n",
        "knn.fit(X_train,y_train)\n",
        "pred3=knn.predict(X_test)\n",
        "print(accuracy_score(y_test,pred3))"
      ],
      "metadata": {
        "colab": {
          "base_uri": "https://localhost:8080/"
        },
        "id": "pKT5qRJLmJ5-",
        "outputId": "56c68dd9-3d14-4326-c9ac-6bd9e9ca4e33"
      },
      "execution_count": null,
      "outputs": [
        {
          "output_type": "stream",
          "name": "stdout",
          "text": [
            "0.9983221476510067\n"
          ]
        },
        {
          "output_type": "stream",
          "name": "stderr",
          "text": [
            "/usr/local/lib/python3.8/dist-packages/sklearn/neighbors/_classification.py:198: DataConversionWarning: A column-vector y was passed when a 1d array was expected. Please change the shape of y to (n_samples,), for example using ravel().\n",
            "  return self._fit(X, y)\n"
          ]
        }
      ]
    },
    {
      "cell_type": "code",
      "source": [
        "print(confusion_matrix(y_test,pred3))"
      ],
      "metadata": {
        "colab": {
          "base_uri": "https://localhost:8080/"
        },
        "id": "YCzQz1xjmzGd",
        "outputId": "c17a8c11-967d-48a2-c674-2d48f739ccb3"
      },
      "execution_count": null,
      "outputs": [
        {
          "output_type": "stream",
          "name": "stdout",
          "text": [
            "[[1190    0]\n",
            " [   2    0]]\n"
          ]
        }
      ]
    },
    {
      "cell_type": "code",
      "source": [
        "print(classification_report(y_test,pred3))"
      ],
      "metadata": {
        "colab": {
          "base_uri": "https://localhost:8080/"
        },
        "id": "BDJ2jbsFm6je",
        "outputId": "7523a75c-83d2-4174-cec5-d7ae2bdfd56f"
      },
      "execution_count": null,
      "outputs": [
        {
          "output_type": "stream",
          "name": "stdout",
          "text": [
            "              precision    recall  f1-score   support\n",
            "\n",
            "       False       1.00      1.00      1.00      1190\n",
            "        True       0.00      0.00      0.00         2\n",
            "\n",
            "    accuracy                           1.00      1192\n",
            "   macro avg       0.50      0.50      0.50      1192\n",
            "weighted avg       1.00      1.00      1.00      1192\n",
            "\n"
          ]
        },
        {
          "output_type": "stream",
          "name": "stderr",
          "text": [
            "/usr/local/lib/python3.8/dist-packages/sklearn/metrics/_classification.py:1318: UndefinedMetricWarning: Precision and F-score are ill-defined and being set to 0.0 in labels with no predicted samples. Use `zero_division` parameter to control this behavior.\n",
            "  _warn_prf(average, modifier, msg_start, len(result))\n",
            "/usr/local/lib/python3.8/dist-packages/sklearn/metrics/_classification.py:1318: UndefinedMetricWarning: Precision and F-score are ill-defined and being set to 0.0 in labels with no predicted samples. Use `zero_division` parameter to control this behavior.\n",
            "  _warn_prf(average, modifier, msg_start, len(result))\n",
            "/usr/local/lib/python3.8/dist-packages/sklearn/metrics/_classification.py:1318: UndefinedMetricWarning: Precision and F-score are ill-defined and being set to 0.0 in labels with no predicted samples. Use `zero_division` parameter to control this behavior.\n",
            "  _warn_prf(average, modifier, msg_start, len(result))\n"
          ]
        }
      ]
    },
    {
      "cell_type": "code",
      "source": [
        "from sklearn.ensemble import RandomForestClassifier\n",
        "r=RandomForestClassifier()\n",
        "r.fit(X_train,y_train)\n",
        "pred4=r.predict(X_test)\n",
        "print(accuracy_score(y_test,pred4))"
      ],
      "metadata": {
        "colab": {
          "base_uri": "https://localhost:8080/"
        },
        "id": "FCMy8cGBndzy",
        "outputId": "63a8a215-474c-4ff3-f02c-b72ef34412d8"
      },
      "execution_count": null,
      "outputs": [
        {
          "output_type": "stream",
          "name": "stderr",
          "text": [
            "<ipython-input-35-bf94745124cd>:3: DataConversionWarning: A column-vector y was passed when a 1d array was expected. Please change the shape of y to (n_samples,), for example using ravel().\n",
            "  r.fit(X_train,y_train)\n"
          ]
        },
        {
          "output_type": "stream",
          "name": "stdout",
          "text": [
            "0.9983221476510067\n"
          ]
        }
      ]
    },
    {
      "cell_type": "code",
      "source": [
        "print(confusion_matrix(y_test,pred4))"
      ],
      "metadata": {
        "colab": {
          "base_uri": "https://localhost:8080/"
        },
        "id": "mzc1dkfZn8FZ",
        "outputId": "0f88a160-0f67-466f-dfeb-7e47f4c6d7b9"
      },
      "execution_count": null,
      "outputs": [
        {
          "output_type": "stream",
          "name": "stdout",
          "text": [
            "[[1190    0]\n",
            " [   2    0]]\n"
          ]
        }
      ]
    },
    {
      "cell_type": "code",
      "source": [
        "print(classification_report(y_test,pred4))"
      ],
      "metadata": {
        "colab": {
          "base_uri": "https://localhost:8080/"
        },
        "id": "Sm--8_lNoD-5",
        "outputId": "987f53df-6fc5-40a0-b930-15d7785fb8ce"
      },
      "execution_count": null,
      "outputs": [
        {
          "output_type": "stream",
          "name": "stdout",
          "text": [
            "              precision    recall  f1-score   support\n",
            "\n",
            "       False       1.00      1.00      1.00      1190\n",
            "        True       0.00      0.00      0.00         2\n",
            "\n",
            "    accuracy                           1.00      1192\n",
            "   macro avg       0.50      0.50      0.50      1192\n",
            "weighted avg       1.00      1.00      1.00      1192\n",
            "\n"
          ]
        },
        {
          "output_type": "stream",
          "name": "stderr",
          "text": [
            "/usr/local/lib/python3.8/dist-packages/sklearn/metrics/_classification.py:1318: UndefinedMetricWarning: Precision and F-score are ill-defined and being set to 0.0 in labels with no predicted samples. Use `zero_division` parameter to control this behavior.\n",
            "  _warn_prf(average, modifier, msg_start, len(result))\n",
            "/usr/local/lib/python3.8/dist-packages/sklearn/metrics/_classification.py:1318: UndefinedMetricWarning: Precision and F-score are ill-defined and being set to 0.0 in labels with no predicted samples. Use `zero_division` parameter to control this behavior.\n",
            "  _warn_prf(average, modifier, msg_start, len(result))\n",
            "/usr/local/lib/python3.8/dist-packages/sklearn/metrics/_classification.py:1318: UndefinedMetricWarning: Precision and F-score are ill-defined and being set to 0.0 in labels with no predicted samples. Use `zero_division` parameter to control this behavior.\n",
            "  _warn_prf(average, modifier, msg_start, len(result))\n"
          ]
        }
      ]
    }
  ]
}